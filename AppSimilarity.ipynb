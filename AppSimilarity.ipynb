{
 "cells": [
  {
   "cell_type": "code",
   "execution_count": 643,
   "metadata": {},
   "outputs": [
    {
     "name": "stderr",
     "output_type": "stream",
     "text": [
      "[nltk_data] Downloading package punkt to /Users/Souvik/nltk_data...\n",
      "[nltk_data]   Package punkt is already up-to-date!\n",
      "[nltk_data] Downloading package stopwords to\n",
      "[nltk_data]     /Users/Souvik/nltk_data...\n",
      "[nltk_data]   Package stopwords is already up-to-date!\n",
      "[nltk_data] Downloading package words to /Users/Souvik/nltk_data...\n",
      "[nltk_data]   Package words is already up-to-date!\n"
     ]
    }
   ],
   "source": [
    "import pandas as pd\n",
    "import scipy\n",
    "import numpy as np\n",
    "import nltk\n",
    "from sklearn.manifold import TSNE\n",
    "import matplotlib.pyplot as plt\n",
    "import matplotlib.cm as cm\n",
    "#% matplotlib inline\n",
    "nltk.download('punkt')\n",
    "nltk.download('stopwords')\n",
    "nltk.download('words')\n",
    "from nltk.corpus import stopwords\n",
    "from gensim.models import KeyedVectors\n",
    "stop_words = set(stopwords.words(\"english\"))\n",
    "from nltk.corpus import words\n",
    "english_words=set(words.words())"
   ]
  },
  {
   "cell_type": "code",
   "execution_count": 594,
   "metadata": {},
   "outputs": [],
   "source": [
    "model = KeyedVectors.load_word2vec_format('GoogleNews-vectors-negative300.bin', binary=True)"
   ]
  },
  {
   "cell_type": "code",
   "execution_count": 595,
   "metadata": {},
   "outputs": [],
   "source": [
    "apps_description=pd.read_csv('appleStore_description.csv')"
   ]
  },
  {
   "cell_type": "code",
   "execution_count": 596,
   "metadata": {},
   "outputs": [
    {
     "data": {
      "text/html": [
       "<div>\n",
       "<style scoped>\n",
       "    .dataframe tbody tr th:only-of-type {\n",
       "        vertical-align: middle;\n",
       "    }\n",
       "\n",
       "    .dataframe tbody tr th {\n",
       "        vertical-align: top;\n",
       "    }\n",
       "\n",
       "    .dataframe thead th {\n",
       "        text-align: right;\n",
       "    }\n",
       "</style>\n",
       "<table border=\"1\" class=\"dataframe\">\n",
       "  <thead>\n",
       "    <tr style=\"text-align: right;\">\n",
       "      <th></th>\n",
       "      <th>id</th>\n",
       "      <th>track_name</th>\n",
       "      <th>size_bytes</th>\n",
       "      <th>app_desc</th>\n",
       "    </tr>\n",
       "  </thead>\n",
       "  <tbody>\n",
       "    <tr>\n",
       "      <th>0</th>\n",
       "      <td>281656475</td>\n",
       "      <td>PAC-MAN Premium</td>\n",
       "      <td>100788224</td>\n",
       "      <td>SAVE 20%, now only $3.99 for a limited time!\\n...</td>\n",
       "    </tr>\n",
       "    <tr>\n",
       "      <th>1</th>\n",
       "      <td>281796108</td>\n",
       "      <td>Evernote - stay organized</td>\n",
       "      <td>158578688</td>\n",
       "      <td>Let Evernote change the way you organize your ...</td>\n",
       "    </tr>\n",
       "    <tr>\n",
       "      <th>2</th>\n",
       "      <td>281940292</td>\n",
       "      <td>WeatherBug - Local Weather, Radar, Maps, Alerts</td>\n",
       "      <td>100524032</td>\n",
       "      <td>Download the most popular free weather app pow...</td>\n",
       "    </tr>\n",
       "    <tr>\n",
       "      <th>3</th>\n",
       "      <td>282614216</td>\n",
       "      <td>eBay: Best App to Buy, Sell, Save! Online Shop...</td>\n",
       "      <td>128512000</td>\n",
       "      <td>The eBay app is the best way to find anything ...</td>\n",
       "    </tr>\n",
       "    <tr>\n",
       "      <th>4</th>\n",
       "      <td>282935706</td>\n",
       "      <td>Bible</td>\n",
       "      <td>92774400</td>\n",
       "      <td>On more than 250 million devices around the wo...</td>\n",
       "    </tr>\n",
       "    <tr>\n",
       "      <th>...</th>\n",
       "      <td>...</td>\n",
       "      <td>...</td>\n",
       "      <td>...</td>\n",
       "      <td>...</td>\n",
       "    </tr>\n",
       "    <tr>\n",
       "      <th>7192</th>\n",
       "      <td>1187617475</td>\n",
       "      <td>Kubik</td>\n",
       "      <td>126644224</td>\n",
       "      <td>Place the falling blocks correctly in order to...</td>\n",
       "    </tr>\n",
       "    <tr>\n",
       "      <th>7193</th>\n",
       "      <td>1187682390</td>\n",
       "      <td>VR Roller-Coaster</td>\n",
       "      <td>120760320</td>\n",
       "      <td>A thrilling virtual reality roller coaster exp...</td>\n",
       "    </tr>\n",
       "    <tr>\n",
       "      <th>7194</th>\n",
       "      <td>1187779532</td>\n",
       "      <td>Bret Michaels Emojis + Lyric Keyboard</td>\n",
       "      <td>111322112</td>\n",
       "      <td>Rock star Bret Michaels, winner of Celebrity A...</td>\n",
       "    </tr>\n",
       "    <tr>\n",
       "      <th>7195</th>\n",
       "      <td>1187838770</td>\n",
       "      <td>VR Roller Coaster World - Virtual Reality</td>\n",
       "      <td>97235968</td>\n",
       "      <td>VR Roller Coaster World is an app for Google C...</td>\n",
       "    </tr>\n",
       "    <tr>\n",
       "      <th>7196</th>\n",
       "      <td>1188375727</td>\n",
       "      <td>Escape the Sweet Shop Series</td>\n",
       "      <td>90898432</td>\n",
       "      <td>5 previous escape games plus 1 new game in one...</td>\n",
       "    </tr>\n",
       "  </tbody>\n",
       "</table>\n",
       "<p>7197 rows × 4 columns</p>\n",
       "</div>"
      ],
      "text/plain": [
       "              id                                         track_name  \\\n",
       "0      281656475                                    PAC-MAN Premium   \n",
       "1      281796108                          Evernote - stay organized   \n",
       "2      281940292    WeatherBug - Local Weather, Radar, Maps, Alerts   \n",
       "3      282614216  eBay: Best App to Buy, Sell, Save! Online Shop...   \n",
       "4      282935706                                              Bible   \n",
       "...          ...                                                ...   \n",
       "7192  1187617475                                              Kubik   \n",
       "7193  1187682390                                  VR Roller-Coaster   \n",
       "7194  1187779532              Bret Michaels Emojis + Lyric Keyboard   \n",
       "7195  1187838770          VR Roller Coaster World - Virtual Reality   \n",
       "7196  1188375727                       Escape the Sweet Shop Series   \n",
       "\n",
       "      size_bytes                                           app_desc  \n",
       "0      100788224  SAVE 20%, now only $3.99 for a limited time!\\n...  \n",
       "1      158578688  Let Evernote change the way you organize your ...  \n",
       "2      100524032  Download the most popular free weather app pow...  \n",
       "3      128512000  The eBay app is the best way to find anything ...  \n",
       "4       92774400  On more than 250 million devices around the wo...  \n",
       "...          ...                                                ...  \n",
       "7192   126644224  Place the falling blocks correctly in order to...  \n",
       "7193   120760320  A thrilling virtual reality roller coaster exp...  \n",
       "7194   111322112  Rock star Bret Michaels, winner of Celebrity A...  \n",
       "7195    97235968  VR Roller Coaster World is an app for Google C...  \n",
       "7196    90898432  5 previous escape games plus 1 new game in one...  \n",
       "\n",
       "[7197 rows x 4 columns]"
      ]
     },
     "execution_count": 596,
     "metadata": {},
     "output_type": "execute_result"
    }
   ],
   "source": [
    "apps_description"
   ]
  },
  {
   "cell_type": "code",
   "execution_count": 597,
   "metadata": {},
   "outputs": [],
   "source": [
    "def calculate_vectors(row,model):\n",
    "    sentences = nltk.sent_tokenize(row)    \n",
    "    words=[]\n",
    "    for sentence in sentences:\n",
    "        words = words + nltk.word_tokenize(sentence)\n",
    "    words = [word for word in words if not word in stop_words]    \n",
    "    number_words_model=0\n",
    "    vector_sum=[0.0]*300\n",
    "    for i,word in enumerate(words):\n",
    "        if word in model:\n",
    "            vector_sum+=model[word]\n",
    "            number_words_model+=1\n",
    "    if number_words_model>0:         \n",
    "        return vector_sum/number_words_model        \n",
    "    else:\n",
    "        return [0]"
   ]
  },
  {
   "cell_type": "code",
   "execution_count": 598,
   "metadata": {},
   "outputs": [],
   "source": [
    "apps_description['average_vector']=apps_description['app_desc'].apply(lambda x: calculate_vectors(x,model))"
   ]
  },
  {
   "cell_type": "code",
   "execution_count": 600,
   "metadata": {},
   "outputs": [],
   "source": [
    "apps_description_filtered=apps_description[apps_description['average_vector'].apply(lambda x: len(x)==300)]"
   ]
  },
  {
   "cell_type": "code",
   "execution_count": 601,
   "metadata": {},
   "outputs": [
    {
     "name": "stderr",
     "output_type": "stream",
     "text": [
      "/Users/Souvik/Documents/anaconda/envs/mypython3/lib/python3.6/site-packages/scipy/spatial/distance.py:720: RuntimeWarning: invalid value encountered in double_scalars\n",
      "  dist = 1.0 - uv / np.sqrt(uu * vv)\n"
     ]
    }
   ],
   "source": [
    "keys = ['music','food','party','exercise','sports','weather','game','media']\n",
    "\n",
    "embedding_clusters = []\n",
    "word_clusters = []\n",
    "for word in keys:\n",
    "    embeddings = []\n",
    "    words = []\n",
    "    for similar_word in find_apps(word,5):\n",
    "        words.append((' ').join(similar_word.split()[0:5]))\n",
    "        embeddings.append(apps_description_filtered[apps_description_filtered['track_name']==similar_word]['average_vector'].to_numpy()[0])\n",
    "    embedding_clusters.append(embeddings)\n",
    "    word_clusters.append(words)"
   ]
  },
  {
   "cell_type": "code",
   "execution_count": 602,
   "metadata": {},
   "outputs": [],
   "source": [
    "embedding_clusters = np.array(embedding_clusters)\n",
    "n, m, k = embedding_clusters.shape\n",
    "tsne_model_en_2d = TSNE(perplexity=9, n_components=2, init='pca', n_iter=3500, random_state=32)\n",
    "embeddings_en_2d = np.array(tsne_model_en_2d.fit_transform(embedding_clusters.reshape(n * m, k))).reshape(n, m, 2)"
   ]
  },
  {
   "cell_type": "code",
   "execution_count": 603,
   "metadata": {},
   "outputs": [
    {
     "name": "stderr",
     "output_type": "stream",
     "text": [
      "'c' argument looks like a single numeric RGB or RGBA sequence, which should be avoided as value-mapping will have precedence in case its length matches with 'x' & 'y'.  Please use a 2-D array with a single row if you really want to specify the same RGB or RGBA value for all points.\n",
      "'c' argument looks like a single numeric RGB or RGBA sequence, which should be avoided as value-mapping will have precedence in case its length matches with 'x' & 'y'.  Please use a 2-D array with a single row if you really want to specify the same RGB or RGBA value for all points.\n",
      "'c' argument looks like a single numeric RGB or RGBA sequence, which should be avoided as value-mapping will have precedence in case its length matches with 'x' & 'y'.  Please use a 2-D array with a single row if you really want to specify the same RGB or RGBA value for all points.\n",
      "'c' argument looks like a single numeric RGB or RGBA sequence, which should be avoided as value-mapping will have precedence in case its length matches with 'x' & 'y'.  Please use a 2-D array with a single row if you really want to specify the same RGB or RGBA value for all points.\n",
      "'c' argument looks like a single numeric RGB or RGBA sequence, which should be avoided as value-mapping will have precedence in case its length matches with 'x' & 'y'.  Please use a 2-D array with a single row if you really want to specify the same RGB or RGBA value for all points.\n",
      "'c' argument looks like a single numeric RGB or RGBA sequence, which should be avoided as value-mapping will have precedence in case its length matches with 'x' & 'y'.  Please use a 2-D array with a single row if you really want to specify the same RGB or RGBA value for all points.\n",
      "'c' argument looks like a single numeric RGB or RGBA sequence, which should be avoided as value-mapping will have precedence in case its length matches with 'x' & 'y'.  Please use a 2-D array with a single row if you really want to specify the same RGB or RGBA value for all points.\n",
      "'c' argument looks like a single numeric RGB or RGBA sequence, which should be avoided as value-mapping will have precedence in case its length matches with 'x' & 'y'.  Please use a 2-D array with a single row if you really want to specify the same RGB or RGBA value for all points.\n"
     ]
    },
    {
     "data": {
      "image/png": "[encoded data removed]",
      "text/plain": [
       "<Figure size 1152x648 with 1 Axes>"
      ]
     },
     "metadata": {
      "needs_background": "light"
     },
     "output_type": "display_data"
    }
   ],
   "source": [
    "def tsne_plot_similar_words(title, labels, embedding_clusters, word_clusters, a, filename=None):\n",
    "    plt.figure(figsize=(16, 9))\n",
    "    colors = cm.rainbow(np.linspace(0, 1, len(labels)))\n",
    "    for label, embeddings, words, color in zip(labels, embedding_clusters, word_clusters, colors):\n",
    "        x = embeddings[:, 0]\n",
    "        y = embeddings[:, 1]\n",
    "        plt.scatter(x, y, c=color, alpha=a, label=label)\n",
    "        for i, word in enumerate(words):\n",
    "            plt.annotate(word, alpha=0.5, xy=(x[i], y[i]), xytext=(5, 2),\n",
    "                         textcoords='offset points', ha='right', va='bottom', size=8)\n",
    "    plt.legend(loc=4)\n",
    "    plt.title(title)\n",
    "    plt.grid(True)\n",
    "    if filename:\n",
    "        plt.savefig(filename, format='png', dpi=150, bbox_inches='tight')\n",
    "    plt.show()\n",
    "\n",
    "\n",
    "tsne_plot_similar_words('Similar App Store Apps', keys, embeddings_en_2d, word_clusters, 0.7,\n",
    "                        'similar_words.png')"
   ]
  },
  {
   "cell_type": "code",
   "execution_count": 604,
   "metadata": {},
   "outputs": [],
   "source": [
    "for i in apps_description.iterrows(): \n",
    "  index_app_map[i[1].id]=i[1].track_name"
   ]
  },
  {
   "cell_type": "code",
   "execution_count": 605,
   "metadata": {},
   "outputs": [],
   "source": [
    "def find_apps(keyword,n):\n",
    "    test_vector=calculate_vectors(keyword,model)\n",
    "    index_distance_tuples=[]\n",
    "    for i in apps_description.iterrows(): \n",
    "        index_distance_tuples.append((i[1].id,scipy.spatial.distance.cosine(i[1].average_vector,test_vector)))\n",
    "    nearest_app_indices=sorted(index_distance_tuples, key=lambda x: x[1])[0:n]\n",
    "    nearest_app_names= [index_app_map[x[0]] for x in nearest_app_indices ]\n",
    "    return nearest_app_names    "
   ]
  },
  {
   "cell_type": "code",
   "execution_count": 606,
   "metadata": {},
   "outputs": [
    {
     "name": "stderr",
     "output_type": "stream",
     "text": [
      "/Users/Souvik/Documents/anaconda/envs/mypython3/lib/python3.6/site-packages/scipy/spatial/distance.py:720: RuntimeWarning: invalid value encountered in double_scalars\n",
      "  dist = 1.0 - uv / np.sqrt(uu * vv)\n"
     ]
    },
    {
     "data": {
      "text/plain": [
       "['AccuWeather - Weather for Life',\n",
       " 'WeatherPro',\n",
       " 'MyRadar Pro NOAA Weather Radar, Forecasts & Storms',\n",
       " 'Boating Weather',\n",
       " 'WeatherBug - Local Weather, Radar, Maps, Alerts',\n",
       " 'Living Earth - Clock & Weather',\n",
       " 'The Weather Channel: Forecast, Radar & Alerts',\n",
       " 'MyRadar NOAA Weather Radar Forecast',\n",
       " 'NOAA Hi-Def Radar Pro -  Storm Warnings, Hurricane Tracker & Weather Forecast',\n",
       " 'Virtual Regatta Offshore']"
      ]
     },
     "execution_count": 606,
     "metadata": {},
     "output_type": "execute_result"
    }
   ],
   "source": [
    "find_apps('weather',10)"
   ]
  },
  {
   "cell_type": "code",
   "execution_count": 548,
   "metadata": {},
   "outputs": [
    {
     "name": "stderr",
     "output_type": "stream",
     "text": [
      "/Users/Souvik/Documents/anaconda/envs/mypython3/lib/python3.6/site-packages/scipy/spatial/distance.py:720: RuntimeWarning: invalid value encountered in double_scalars\n",
      "  dist = 1.0 - uv / np.sqrt(uu * vv)\n"
     ]
    },
    {
     "data": {
      "text/plain": [
       "['Food Additives Checker (E Numbers)',\n",
       " 'Sky Burger - Build & Match Food Free',\n",
       " 'Allrecipes Dinner Spinner',\n",
       " 'Paprika Recipe Manager',\n",
       " 'Whole Foods Market',\n",
       " 'Alipay - Makes Life Easy',\n",
       " 'OpenTable - Restaurant Reservations',\n",
       " 'Yelp - Nearby Restaurants, Shopping & Services',\n",
       " 'Starbucks',\n",
       " \"Sam's Club: Wholesale Shopping & Bulk Buy Deals\"]"
      ]
     },
     "execution_count": 548,
     "metadata": {},
     "output_type": "execute_result"
    }
   ],
   "source": [
    "find_apps('food',10)"
   ]
  },
  {
   "cell_type": "code",
   "execution_count": 337,
   "metadata": {},
   "outputs": [
    {
     "data": {
      "text/plain": [
       "['CBS Sports App - Sports Scores, News, Stats, Watch',\n",
       " 'Yahoo Sports - Teams, Scores, News & Highlights',\n",
       " 'FOX Sports Mobile',\n",
       " 'Onefootball - Soccer Scores & Live News',\n",
       " 'Yahoo Fantasy Sports',\n",
       " 'Top Eleven 2017 - Be a Soccer Manager',\n",
       " 'NFL',\n",
       " 'ESPN: Get scores, news, alerts & watch live sports',\n",
       " 'ABC News - US & World News + Live Video',\n",
       " \"Ricky Carmichael's Motocross Matchup Pro\"]"
      ]
     },
     "execution_count": 337,
     "metadata": {},
     "output_type": "execute_result"
    }
   ],
   "source": [
    "find_apps('sports',10)"
   ]
  },
  {
   "cell_type": "code",
   "execution_count": 338,
   "metadata": {},
   "outputs": [
    {
     "data": {
      "text/plain": [
       "['Lose It! – Weight Loss Program and Calorie Counter',\n",
       " 'Nike+ Training Club - Workouts & Fitness Plans',\n",
       " 'Lifesum – Inspiring healthy lifestyle app',\n",
       " 'Map My Ride+ - GPS Cycling & Route Tracker',\n",
       " 'Sleep Cycle alarm clock',\n",
       " 'Period Tracker Deluxe',\n",
       " 'Map My Run+ - GPS Running & Workout Tracker',\n",
       " 'Period Tracker Lite',\n",
       " 'Weight Watchers',\n",
       " 'SmartGo Player']"
      ]
     },
     "execution_count": 338,
     "metadata": {},
     "output_type": "execute_result"
    }
   ],
   "source": [
    "find_apps('exercise',10)"
   ]
  },
  {
   "cell_type": "code",
   "execution_count": 339,
   "metadata": {},
   "outputs": [
    {
     "data": {
      "text/plain": [
       "['Big Day - Event Countdown',\n",
       " 'Phrase Party!',\n",
       " 'LEDit – The LED Banner App',\n",
       " 'Alter Ego',\n",
       " 'OpenTable - Restaurant Reservations',\n",
       " 'Wedding Dash Deluxe',\n",
       " 'Alipay - Makes Life Easy',\n",
       " 'Election 2016 Map',\n",
       " 'Peekaboo Barn',\n",
       " 'Virtual Families']"
      ]
     },
     "execution_count": 339,
     "metadata": {},
     "output_type": "execute_result"
    }
   ],
   "source": [
    "find_apps('party',10)"
   ]
  },
  {
   "cell_type": "code",
   "execution_count": 361,
   "metadata": {},
   "outputs": [
    {
     "data": {
      "text/plain": [
       "['iReal Pro - Music Book & Play Along',\n",
       " 'Sonos Controller',\n",
       " 'Deezer - Listen to your Favorite Music & Playlists',\n",
       " 'Shazam - Discover music, artists, videos & lyrics',\n",
       " 'Spotify Music',\n",
       " 'Cleartune - Chromatic Tuner',\n",
       " 'I Am T-Pain 2.0',\n",
       " 'iHeartRadio – Free Music & Radio Stations',\n",
       " 'Pandora - Music & Radio',\n",
       " 'Peekaboo Barn']"
      ]
     },
     "execution_count": 361,
     "metadata": {},
     "output_type": "execute_result"
    }
   ],
   "source": [
    "find_apps('music',10)"
   ]
  },
  {
   "cell_type": "code",
   "execution_count": 368,
   "metadata": {
    "scrolled": true
   },
   "outputs": [
    {
     "data": {
      "text/plain": [
       "['World Cup Table Tennis™',\n",
       " 'SmartGo Player',\n",
       " 'Stratego® Single Player',\n",
       " 'FreeCell',\n",
       " 'Fruit Ninja®',\n",
       " 'Dungeon Raid',\n",
       " 'Top Eleven 2017 - Be a Soccer Manager',\n",
       " 'Beer Pong Game',\n",
       " 'Neuroshima Hex',\n",
       " '10 Pin Shuffle Pro Bowling']"
      ]
     },
     "execution_count": 368,
     "metadata": {},
     "output_type": "execute_result"
    }
   ],
   "source": [
    "find_apps('game',10)"
   ]
  },
  {
   "cell_type": "code",
   "execution_count": 378,
   "metadata": {},
   "outputs": [
    {
     "data": {
      "text/plain": [
       "['CNN: Breaking US & World News, Live Video',\n",
       " 'CBS News - Watch Free Live Breaking News',\n",
       " 'ABC News - US & World News + Live Video',\n",
       " 'Fox News',\n",
       " 'ESPN: Get scores, news, alerts & watch live sports',\n",
       " 'Ameba',\n",
       " 'HuffPost - News, Politics & Entertainment',\n",
       " 'Twitter',\n",
       " 'NBC News',\n",
       " 'Sky News']"
      ]
     },
     "execution_count": 378,
     "metadata": {},
     "output_type": "execute_result"
    }
   ],
   "source": [
    "find_apps('media',10)"
   ]
  },
  {
   "cell_type": "code",
   "execution_count": 549,
   "metadata": {},
   "outputs": [
    {
     "data": {
      "text/plain": [
       "['Canabalt',\n",
       " '▻Solitaire',\n",
       " 'The Secret of Grisly Manor',\n",
       " 'Neuroshima Hex',\n",
       " 'Dungeon Raid',\n",
       " 'LEGO Harry Potter: Years 1-4',\n",
       " 'FreeCell',\n",
       " 'Shoot The Zombirds',\n",
       " \"Reiner Knizia's Ra\",\n",
       " 'Super Stickman Golf']"
      ]
     },
     "execution_count": 549,
     "metadata": {},
     "output_type": "execute_result"
    }
   ],
   "source": [
    "find_apps('mystery game',10)"
   ]
  },
  {
   "cell_type": "code",
   "execution_count": 577,
   "metadata": {},
   "outputs": [
    {
     "data": {
      "text/plain": [
       "['Twitter',\n",
       " 'CBS News - Watch Free Live Breaking News',\n",
       " 'CNN: Breaking US & World News, Live Video',\n",
       " 'ABC News - US & World News + Live Video',\n",
       " 'HuffPost - News, Politics & Entertainment',\n",
       " 'NBC News',\n",
       " 'ESPN: Get scores, news, alerts & watch live sports',\n",
       " 'Sky News',\n",
       " 'Parking Mania',\n",
       " 'LinkedIn']"
      ]
     },
     "execution_count": 577,
     "metadata": {},
     "output_type": "execute_result"
    }
   ],
   "source": [
    "find_apps('social media',10)"
   ]
  },
  {
   "cell_type": "code",
   "execution_count": 584,
   "metadata": {},
   "outputs": [
    {
     "data": {
      "text/plain": [
       "['CNN: Breaking US & World News, Live Video',\n",
       " 'ESPN: Get scores, news, alerts & watch live sports',\n",
       " 'Twitter',\n",
       " 'MSNBC',\n",
       " 'Sunday Ticket',\n",
       " 'NFL Sunday Ticket',\n",
       " 'ABC News - US & World News + Live Video',\n",
       " 'CBS News - Watch Free Live Breaking News',\n",
       " 'The Masters Tournament',\n",
       " 'DIRECTV']"
      ]
     },
     "execution_count": 584,
     "metadata": {},
     "output_type": "execute_result"
    }
   ],
   "source": [
    "find_apps('watch tv',10)"
   ]
  },
  {
   "cell_type": "code",
   "execution_count": 570,
   "metadata": {},
   "outputs": [
    {
     "data": {
      "text/plain": [
       "['Alipay - Makes Life Easy',\n",
       " 'Mint: Personal Finance, Budget, Bills & Money',\n",
       " 'PayPal - Send and request money safely',\n",
       " 'iLoan Calc (Loan calculator)',\n",
       " 'HomeBudget with Sync',\n",
       " 'Dropbox',\n",
       " 'Starbucks',\n",
       " 'Bank of America - Mobile Banking',\n",
       " 'Chase Mobile℠',\n",
       " 'Zillow Real Estate - Homes for Sale & for Rent']"
      ]
     },
     "execution_count": 570,
     "metadata": {},
     "output_type": "execute_result"
    }
   ],
   "source": [
    "find_apps('pay bills',10)"
   ]
  },
  {
   "cell_type": "code",
   "execution_count": 556,
   "metadata": {},
   "outputs": [
    {
     "data": {
      "text/plain": [
       "['CBS Sports App - Sports Scores, News, Stats, Watch',\n",
       " 'Sunday Ticket',\n",
       " 'NFL Sunday Ticket',\n",
       " 'Yahoo Sports - Teams, Scores, News & Highlights',\n",
       " 'FOX Sports Mobile',\n",
       " 'Top Eleven 2017 - Be a Soccer Manager',\n",
       " 'PGA Championship 2016 – Baltusrol Golf Club',\n",
       " 'ESPN: Get scores, news, alerts & watch live sports',\n",
       " 'NFL',\n",
       " 'The Championships, Wimbledon 2016 - Tennis Grand Slam']"
      ]
     },
     "execution_count": 556,
     "metadata": {},
     "output_type": "execute_result"
    }
   ],
   "source": [
    "find_apps('watch football',10)"
   ]
  },
  {
   "cell_type": "code",
   "execution_count": 586,
   "metadata": {},
   "outputs": [
    {
     "data": {
      "text/plain": [
       "['Wedding Dash Deluxe',\n",
       " 'Big Day - Event Countdown',\n",
       " 'Alter Ego',\n",
       " 'OpenTable - Restaurant Reservations',\n",
       " 'LEDit – The LED Banner App',\n",
       " 'Shutterfly: Prints, Photo Books, Cards Made Easy',\n",
       " 'Match™ - #1 Dating App.',\n",
       " 'Alipay - Makes Life Easy',\n",
       " 'The Championships, Wimbledon 2016 - Tennis Grand Slam',\n",
       " 'Grindr - Gay and same sex guys chat, meet and date']"
      ]
     },
     "execution_count": 586,
     "metadata": {},
     "output_type": "execute_result"
    }
   ],
   "source": [
    "find_apps('wedding party',10)"
   ]
  },
  {
   "cell_type": "code",
   "execution_count": 589,
   "metadata": {},
   "outputs": [
    {
     "data": {
      "text/plain": [
       "['iReal Pro - Music Book & Play Along',\n",
       " 'Tempo - Metronome with Setlists',\n",
       " 'Canabalt',\n",
       " 'SmartGo Player',\n",
       " 'Cleartune - Chromatic Tuner',\n",
       " 'World Cup Table Tennis™',\n",
       " 'Lane Splitter',\n",
       " 'Chess Pro with Coach - Learn,Play & Online Friends',\n",
       " 'I Dig It',\n",
       " 'Neuroshima Hex']"
      ]
     },
     "execution_count": 589,
     "metadata": {},
     "output_type": "execute_result"
    }
   ],
   "source": [
    "find_apps('tempo',10)"
   ]
  },
  {
   "cell_type": "code",
   "execution_count": 616,
   "metadata": {},
   "outputs": [],
   "source": [
    "def check_english(row,model):\n",
    "    sentences = nltk.sent_tokenize(row)    \n",
    "    words=[]\n",
    "    for sentence in sentences:\n",
    "        words = words + nltk.word_tokenize(sentence)\n",
    "    words = [word for word in words if not word in stop_words]    \n",
    "    count_english_words=0\n",
    "    for word in words:\n",
    "        if word in english_words:\n",
    "            count_english_words+=1\n",
    "    if count_english_words>5:\n",
    "        return 1\n",
    "    else:\n",
    "        return 0"
   ]
  },
  {
   "cell_type": "code",
   "execution_count": 617,
   "metadata": {},
   "outputs": [
    {
     "name": "stderr",
     "output_type": "stream",
     "text": [
      "/Users/Souvik/Documents/anaconda/envs/mypython3/lib/python3.6/site-packages/ipykernel_launcher.py:1: SettingWithCopyWarning: \n",
      "A value is trying to be set on a copy of a slice from a DataFrame.\n",
      "Try using .loc[row_indexer,col_indexer] = value instead\n",
      "\n",
      "See the caveats in the documentation: https://pandas.pydata.org/pandas-docs/stable/user_guide/indexing.html#returning-a-view-versus-a-copy\n",
      "  \"\"\"Entry point for launching an IPython kernel.\n"
     ]
    }
   ],
   "source": [
    "apps_description_filtered['check_english']=apps_description_filtered['app_desc'].apply(lambda x: check_english(x,model))"
   ]
  },
  {
   "cell_type": "code",
   "execution_count": 618,
   "metadata": {},
   "outputs": [
    {
     "data": {
      "text/html": [
       "<div>\n",
       "<style scoped>\n",
       "    .dataframe tbody tr th:only-of-type {\n",
       "        vertical-align: middle;\n",
       "    }\n",
       "\n",
       "    .dataframe tbody tr th {\n",
       "        vertical-align: top;\n",
       "    }\n",
       "\n",
       "    .dataframe thead th {\n",
       "        text-align: right;\n",
       "    }\n",
       "</style>\n",
       "<table border=\"1\" class=\"dataframe\">\n",
       "  <thead>\n",
       "    <tr style=\"text-align: right;\">\n",
       "      <th></th>\n",
       "      <th>id</th>\n",
       "      <th>track_name</th>\n",
       "      <th>size_bytes</th>\n",
       "      <th>app_desc</th>\n",
       "      <th>average_vector</th>\n",
       "      <th>cluster</th>\n",
       "      <th>check_english</th>\n",
       "    </tr>\n",
       "  </thead>\n",
       "  <tbody>\n",
       "    <tr>\n",
       "      <th>0</th>\n",
       "      <td>281656475</td>\n",
       "      <td>PAC-MAN Premium</td>\n",
       "      <td>100788224</td>\n",
       "      <td>SAVE 20%, now only $3.99 for a limited time!\\n...</td>\n",
       "      <td>[0.053137908747166764, 0.017843693862726658, 0...</td>\n",
       "      <td>19</td>\n",
       "      <td>1</td>\n",
       "    </tr>\n",
       "    <tr>\n",
       "      <th>1</th>\n",
       "      <td>281796108</td>\n",
       "      <td>Evernote - stay organized</td>\n",
       "      <td>158578688</td>\n",
       "      <td>Let Evernote change the way you organize your ...</td>\n",
       "      <td>[0.030817609314524798, -0.003614385193641033, ...</td>\n",
       "      <td>8</td>\n",
       "      <td>1</td>\n",
       "    </tr>\n",
       "    <tr>\n",
       "      <th>2</th>\n",
       "      <td>281940292</td>\n",
       "      <td>WeatherBug - Local Weather, Radar, Maps, Alerts</td>\n",
       "      <td>100524032</td>\n",
       "      <td>Download the most popular free weather app pow...</td>\n",
       "      <td>[0.014187305004565746, -0.024998190083028952, ...</td>\n",
       "      <td>12</td>\n",
       "      <td>1</td>\n",
       "    </tr>\n",
       "    <tr>\n",
       "      <th>3</th>\n",
       "      <td>282614216</td>\n",
       "      <td>eBay: Best App to Buy, Sell, Save! Online Shop...</td>\n",
       "      <td>128512000</td>\n",
       "      <td>The eBay app is the best way to find anything ...</td>\n",
       "      <td>[0.03209552806088013, 0.05188517745576204, -0....</td>\n",
       "      <td>12</td>\n",
       "      <td>1</td>\n",
       "    </tr>\n",
       "    <tr>\n",
       "      <th>4</th>\n",
       "      <td>282935706</td>\n",
       "      <td>Bible</td>\n",
       "      <td>92774400</td>\n",
       "      <td>On more than 250 million devices around the wo...</td>\n",
       "      <td>[0.06322208990497649, -0.033529873551993536, -...</td>\n",
       "      <td>8</td>\n",
       "      <td>1</td>\n",
       "    </tr>\n",
       "    <tr>\n",
       "      <th>...</th>\n",
       "      <td>...</td>\n",
       "      <td>...</td>\n",
       "      <td>...</td>\n",
       "      <td>...</td>\n",
       "      <td>...</td>\n",
       "      <td>...</td>\n",
       "      <td>...</td>\n",
       "    </tr>\n",
       "    <tr>\n",
       "      <th>7192</th>\n",
       "      <td>1187617475</td>\n",
       "      <td>Kubik</td>\n",
       "      <td>126644224</td>\n",
       "      <td>Place the falling blocks correctly in order to...</td>\n",
       "      <td>[-0.005232186153017241, 0.011828192349137932, ...</td>\n",
       "      <td>0</td>\n",
       "      <td>1</td>\n",
       "    </tr>\n",
       "    <tr>\n",
       "      <th>7193</th>\n",
       "      <td>1187682390</td>\n",
       "      <td>VR Roller-Coaster</td>\n",
       "      <td>120760320</td>\n",
       "      <td>A thrilling virtual reality roller coaster exp...</td>\n",
       "      <td>[0.015625, 0.0052947998046875, -0.024238586425...</td>\n",
       "      <td>19</td>\n",
       "      <td>1</td>\n",
       "    </tr>\n",
       "    <tr>\n",
       "      <th>7194</th>\n",
       "      <td>1187779532</td>\n",
       "      <td>Bret Michaels Emojis + Lyric Keyboard</td>\n",
       "      <td>111322112</td>\n",
       "      <td>Rock star Bret Michaels, winner of Celebrity A...</td>\n",
       "      <td>[0.05234375, -0.0371685791015625, -0.009476318...</td>\n",
       "      <td>13</td>\n",
       "      <td>1</td>\n",
       "    </tr>\n",
       "    <tr>\n",
       "      <th>7195</th>\n",
       "      <td>1187838770</td>\n",
       "      <td>VR Roller Coaster World - Virtual Reality</td>\n",
       "      <td>97235968</td>\n",
       "      <td>VR Roller Coaster World is an app for Google C...</td>\n",
       "      <td>[0.025122764783027846, -0.045728243314302884, ...</td>\n",
       "      <td>19</td>\n",
       "      <td>1</td>\n",
       "    </tr>\n",
       "    <tr>\n",
       "      <th>7196</th>\n",
       "      <td>1188375727</td>\n",
       "      <td>Escape the Sweet Shop Series</td>\n",
       "      <td>90898432</td>\n",
       "      <td>5 previous escape games plus 1 new game in one...</td>\n",
       "      <td>[0.004549164702926857, 0.03336301057235054, -0...</td>\n",
       "      <td>13</td>\n",
       "      <td>1</td>\n",
       "    </tr>\n",
       "  </tbody>\n",
       "</table>\n",
       "<p>6824 rows × 7 columns</p>\n",
       "</div>"
      ],
      "text/plain": [
       "              id                                         track_name  \\\n",
       "0      281656475                                    PAC-MAN Premium   \n",
       "1      281796108                          Evernote - stay organized   \n",
       "2      281940292    WeatherBug - Local Weather, Radar, Maps, Alerts   \n",
       "3      282614216  eBay: Best App to Buy, Sell, Save! Online Shop...   \n",
       "4      282935706                                              Bible   \n",
       "...          ...                                                ...   \n",
       "7192  1187617475                                              Kubik   \n",
       "7193  1187682390                                  VR Roller-Coaster   \n",
       "7194  1187779532              Bret Michaels Emojis + Lyric Keyboard   \n",
       "7195  1187838770          VR Roller Coaster World - Virtual Reality   \n",
       "7196  1188375727                       Escape the Sweet Shop Series   \n",
       "\n",
       "      size_bytes                                           app_desc  \\\n",
       "0      100788224  SAVE 20%, now only $3.99 for a limited time!\\n...   \n",
       "1      158578688  Let Evernote change the way you organize your ...   \n",
       "2      100524032  Download the most popular free weather app pow...   \n",
       "3      128512000  The eBay app is the best way to find anything ...   \n",
       "4       92774400  On more than 250 million devices around the wo...   \n",
       "...          ...                                                ...   \n",
       "7192   126644224  Place the falling blocks correctly in order to...   \n",
       "7193   120760320  A thrilling virtual reality roller coaster exp...   \n",
       "7194   111322112  Rock star Bret Michaels, winner of Celebrity A...   \n",
       "7195    97235968  VR Roller Coaster World is an app for Google C...   \n",
       "7196    90898432  5 previous escape games plus 1 new game in one...   \n",
       "\n",
       "                                         average_vector  cluster  \\\n",
       "0     [0.053137908747166764, 0.017843693862726658, 0...       19   \n",
       "1     [0.030817609314524798, -0.003614385193641033, ...        8   \n",
       "2     [0.014187305004565746, -0.024998190083028952, ...       12   \n",
       "3     [0.03209552806088013, 0.05188517745576204, -0....       12   \n",
       "4     [0.06322208990497649, -0.033529873551993536, -...        8   \n",
       "...                                                 ...      ...   \n",
       "7192  [-0.005232186153017241, 0.011828192349137932, ...        0   \n",
       "7193  [0.015625, 0.0052947998046875, -0.024238586425...       19   \n",
       "7194  [0.05234375, -0.0371685791015625, -0.009476318...       13   \n",
       "7195  [0.025122764783027846, -0.045728243314302884, ...       19   \n",
       "7196  [0.004549164702926857, 0.03336301057235054, -0...       13   \n",
       "\n",
       "      check_english  \n",
       "0                 1  \n",
       "1                 1  \n",
       "2                 1  \n",
       "3                 1  \n",
       "4                 1  \n",
       "...             ...  \n",
       "7192              1  \n",
       "7193              1  \n",
       "7194              1  \n",
       "7195              1  \n",
       "7196              1  \n",
       "\n",
       "[6824 rows x 7 columns]"
      ]
     },
     "execution_count": 618,
     "metadata": {},
     "output_type": "execute_result"
    }
   ],
   "source": [
    "apps_description_filtered"
   ]
  },
  {
   "cell_type": "code",
   "execution_count": 619,
   "metadata": {},
   "outputs": [],
   "source": [
    "apps_description_filtered_english=apps_description_filtered[apps_description_filtered['check_english']==1]"
   ]
  },
  {
   "cell_type": "code",
   "execution_count": 620,
   "metadata": {},
   "outputs": [
    {
     "data": {
      "text/html": [
       "<div>\n",
       "<style scoped>\n",
       "    .dataframe tbody tr th:only-of-type {\n",
       "        vertical-align: middle;\n",
       "    }\n",
       "\n",
       "    .dataframe tbody tr th {\n",
       "        vertical-align: top;\n",
       "    }\n",
       "\n",
       "    .dataframe thead th {\n",
       "        text-align: right;\n",
       "    }\n",
       "</style>\n",
       "<table border=\"1\" class=\"dataframe\">\n",
       "  <thead>\n",
       "    <tr style=\"text-align: right;\">\n",
       "      <th></th>\n",
       "      <th>id</th>\n",
       "      <th>track_name</th>\n",
       "      <th>size_bytes</th>\n",
       "      <th>app_desc</th>\n",
       "      <th>average_vector</th>\n",
       "      <th>cluster</th>\n",
       "      <th>check_english</th>\n",
       "    </tr>\n",
       "  </thead>\n",
       "  <tbody>\n",
       "    <tr>\n",
       "      <th>0</th>\n",
       "      <td>281656475</td>\n",
       "      <td>PAC-MAN Premium</td>\n",
       "      <td>100788224</td>\n",
       "      <td>SAVE 20%, now only $3.99 for a limited time!\\n...</td>\n",
       "      <td>[0.053137908747166764, 0.017843693862726658, 0...</td>\n",
       "      <td>19</td>\n",
       "      <td>1</td>\n",
       "    </tr>\n",
       "    <tr>\n",
       "      <th>1</th>\n",
       "      <td>281796108</td>\n",
       "      <td>Evernote - stay organized</td>\n",
       "      <td>158578688</td>\n",
       "      <td>Let Evernote change the way you organize your ...</td>\n",
       "      <td>[0.030817609314524798, -0.003614385193641033, ...</td>\n",
       "      <td>8</td>\n",
       "      <td>1</td>\n",
       "    </tr>\n",
       "    <tr>\n",
       "      <th>2</th>\n",
       "      <td>281940292</td>\n",
       "      <td>WeatherBug - Local Weather, Radar, Maps, Alerts</td>\n",
       "      <td>100524032</td>\n",
       "      <td>Download the most popular free weather app pow...</td>\n",
       "      <td>[0.014187305004565746, -0.024998190083028952, ...</td>\n",
       "      <td>12</td>\n",
       "      <td>1</td>\n",
       "    </tr>\n",
       "    <tr>\n",
       "      <th>3</th>\n",
       "      <td>282614216</td>\n",
       "      <td>eBay: Best App to Buy, Sell, Save! Online Shop...</td>\n",
       "      <td>128512000</td>\n",
       "      <td>The eBay app is the best way to find anything ...</td>\n",
       "      <td>[0.03209552806088013, 0.05188517745576204, -0....</td>\n",
       "      <td>12</td>\n",
       "      <td>1</td>\n",
       "    </tr>\n",
       "    <tr>\n",
       "      <th>4</th>\n",
       "      <td>282935706</td>\n",
       "      <td>Bible</td>\n",
       "      <td>92774400</td>\n",
       "      <td>On more than 250 million devices around the wo...</td>\n",
       "      <td>[0.06322208990497649, -0.033529873551993536, -...</td>\n",
       "      <td>8</td>\n",
       "      <td>1</td>\n",
       "    </tr>\n",
       "    <tr>\n",
       "      <th>...</th>\n",
       "      <td>...</td>\n",
       "      <td>...</td>\n",
       "      <td>...</td>\n",
       "      <td>...</td>\n",
       "      <td>...</td>\n",
       "      <td>...</td>\n",
       "      <td>...</td>\n",
       "    </tr>\n",
       "    <tr>\n",
       "      <th>7192</th>\n",
       "      <td>1187617475</td>\n",
       "      <td>Kubik</td>\n",
       "      <td>126644224</td>\n",
       "      <td>Place the falling blocks correctly in order to...</td>\n",
       "      <td>[-0.005232186153017241, 0.011828192349137932, ...</td>\n",
       "      <td>0</td>\n",
       "      <td>1</td>\n",
       "    </tr>\n",
       "    <tr>\n",
       "      <th>7193</th>\n",
       "      <td>1187682390</td>\n",
       "      <td>VR Roller-Coaster</td>\n",
       "      <td>120760320</td>\n",
       "      <td>A thrilling virtual reality roller coaster exp...</td>\n",
       "      <td>[0.015625, 0.0052947998046875, -0.024238586425...</td>\n",
       "      <td>19</td>\n",
       "      <td>1</td>\n",
       "    </tr>\n",
       "    <tr>\n",
       "      <th>7194</th>\n",
       "      <td>1187779532</td>\n",
       "      <td>Bret Michaels Emojis + Lyric Keyboard</td>\n",
       "      <td>111322112</td>\n",
       "      <td>Rock star Bret Michaels, winner of Celebrity A...</td>\n",
       "      <td>[0.05234375, -0.0371685791015625, -0.009476318...</td>\n",
       "      <td>13</td>\n",
       "      <td>1</td>\n",
       "    </tr>\n",
       "    <tr>\n",
       "      <th>7195</th>\n",
       "      <td>1187838770</td>\n",
       "      <td>VR Roller Coaster World - Virtual Reality</td>\n",
       "      <td>97235968</td>\n",
       "      <td>VR Roller Coaster World is an app for Google C...</td>\n",
       "      <td>[0.025122764783027846, -0.045728243314302884, ...</td>\n",
       "      <td>19</td>\n",
       "      <td>1</td>\n",
       "    </tr>\n",
       "    <tr>\n",
       "      <th>7196</th>\n",
       "      <td>1188375727</td>\n",
       "      <td>Escape the Sweet Shop Series</td>\n",
       "      <td>90898432</td>\n",
       "      <td>5 previous escape games plus 1 new game in one...</td>\n",
       "      <td>[0.004549164702926857, 0.03336301057235054, -0...</td>\n",
       "      <td>13</td>\n",
       "      <td>1</td>\n",
       "    </tr>\n",
       "  </tbody>\n",
       "</table>\n",
       "<p>6154 rows × 7 columns</p>\n",
       "</div>"
      ],
      "text/plain": [
       "              id                                         track_name  \\\n",
       "0      281656475                                    PAC-MAN Premium   \n",
       "1      281796108                          Evernote - stay organized   \n",
       "2      281940292    WeatherBug - Local Weather, Radar, Maps, Alerts   \n",
       "3      282614216  eBay: Best App to Buy, Sell, Save! Online Shop...   \n",
       "4      282935706                                              Bible   \n",
       "...          ...                                                ...   \n",
       "7192  1187617475                                              Kubik   \n",
       "7193  1187682390                                  VR Roller-Coaster   \n",
       "7194  1187779532              Bret Michaels Emojis + Lyric Keyboard   \n",
       "7195  1187838770          VR Roller Coaster World - Virtual Reality   \n",
       "7196  1188375727                       Escape the Sweet Shop Series   \n",
       "\n",
       "      size_bytes                                           app_desc  \\\n",
       "0      100788224  SAVE 20%, now only $3.99 for a limited time!\\n...   \n",
       "1      158578688  Let Evernote change the way you organize your ...   \n",
       "2      100524032  Download the most popular free weather app pow...   \n",
       "3      128512000  The eBay app is the best way to find anything ...   \n",
       "4       92774400  On more than 250 million devices around the wo...   \n",
       "...          ...                                                ...   \n",
       "7192   126644224  Place the falling blocks correctly in order to...   \n",
       "7193   120760320  A thrilling virtual reality roller coaster exp...   \n",
       "7194   111322112  Rock star Bret Michaels, winner of Celebrity A...   \n",
       "7195    97235968  VR Roller Coaster World is an app for Google C...   \n",
       "7196    90898432  5 previous escape games plus 1 new game in one...   \n",
       "\n",
       "                                         average_vector  cluster  \\\n",
       "0     [0.053137908747166764, 0.017843693862726658, 0...       19   \n",
       "1     [0.030817609314524798, -0.003614385193641033, ...        8   \n",
       "2     [0.014187305004565746, -0.024998190083028952, ...       12   \n",
       "3     [0.03209552806088013, 0.05188517745576204, -0....       12   \n",
       "4     [0.06322208990497649, -0.033529873551993536, -...        8   \n",
       "...                                                 ...      ...   \n",
       "7192  [-0.005232186153017241, 0.011828192349137932, ...        0   \n",
       "7193  [0.015625, 0.0052947998046875, -0.024238586425...       19   \n",
       "7194  [0.05234375, -0.0371685791015625, -0.009476318...       13   \n",
       "7195  [0.025122764783027846, -0.045728243314302884, ...       19   \n",
       "7196  [0.004549164702926857, 0.03336301057235054, -0...       13   \n",
       "\n",
       "      check_english  \n",
       "0                 1  \n",
       "1                 1  \n",
       "2                 1  \n",
       "3                 1  \n",
       "4                 1  \n",
       "...             ...  \n",
       "7192              1  \n",
       "7193              1  \n",
       "7194              1  \n",
       "7195              1  \n",
       "7196              1  \n",
       "\n",
       "[6154 rows x 7 columns]"
      ]
     },
     "execution_count": 620,
     "metadata": {},
     "output_type": "execute_result"
    }
   ],
   "source": [
    "apps_description_filtered_english"
   ]
  },
  {
   "cell_type": "code",
   "execution_count": 621,
   "metadata": {},
   "outputs": [],
   "source": [
    "app_vectors=[]\n",
    "for i in apps_description_filtered_english.iterrows():\n",
    "    app_vectors.append(i[1].average_vector)\n",
    "app_vectors=np.array(app_vectors)    "
   ]
  },
  {
   "cell_type": "code",
   "execution_count": 622,
   "metadata": {},
   "outputs": [],
   "source": [
    "km = KMeans(n_clusters=20, random_state=0).fit(app_vectors)"
   ]
  },
  {
   "cell_type": "code",
   "execution_count": 625,
   "metadata": {
    "scrolled": true
   },
   "outputs": [
    {
     "name": "stderr",
     "output_type": "stream",
     "text": [
      "/Users/Souvik/Documents/anaconda/envs/mypython3/lib/python3.6/site-packages/ipykernel_launcher.py:2: SettingWithCopyWarning: \n",
      "A value is trying to be set on a copy of a slice from a DataFrame.\n",
      "Try using .loc[row_indexer,col_indexer] = value instead\n",
      "\n",
      "See the caveats in the documentation: https://pandas.pydata.org/pandas-docs/stable/user_guide/indexing.html#returning-a-view-versus-a-copy\n",
      "  \n"
     ]
    }
   ],
   "source": [
    "clusters = km.labels_.tolist()\n",
    "apps_description_filtered_english[\"cluster\"] = clusters\n"
   ]
  },
  {
   "cell_type": "code",
   "execution_count": 626,
   "metadata": {},
   "outputs": [],
   "source": [
    "num_of_clusters=20\n",
    "embedding_clusters = [0]*num_of_clusters\n",
    "word_clusters = [0]*num_of_clusters\n",
    "for i in apps_description_filtered_english.iterrows():\n",
    "    cluster=i[1].cluster\n",
    "    if word_clusters[cluster]==0:\n",
    "        word_clusters[cluster]=[]\n",
    "        embedding_clusters[cluster]=[]\n",
    "        embedding_clusters[cluster].append(i[1].average_vector)\n",
    "        word_clusters[cluster].append(' '.join(i[1].track_name.split()[0:3]))\n",
    "    else:\n",
    "        if len(word_clusters[cluster])<25:\n",
    "            word_clusters[cluster].append(' '.join(i[1].track_name.split()[0:3]))\n",
    "            embedding_clusters[cluster].append(i[1].average_vector)"
   ]
  },
  {
   "cell_type": "code",
   "execution_count": 630,
   "metadata": {},
   "outputs": [],
   "source": [
    "num_of_clusters=20\n",
    "keys = ['Cluster'+ str(i) for i in range(num_of_clusters)]\n",
    "apps_to_plot=25\n",
    "embedding_clusters = [0]*num_of_clusters\n",
    "word_clusters = [0]*num_of_clusters\n",
    "for i in apps_description_filtered_english.iterrows():\n",
    "    cluster=i[1].cluster\n",
    "    if embedding_clusters[cluster]==0:\n",
    "        word_clusters[cluster]=[]\n",
    "        embedding_clusters[cluster]=[]\n",
    "        embedding_clusters[cluster].append(i[1].average_vector)\n",
    "        word_clusters[cluster].append(cluster)\n",
    "    else:\n",
    "        if len(word_clusters[cluster])<apps_to_plot:\n",
    "            word_clusters[cluster].append(cluster)\n",
    "            embedding_clusters[cluster].append(i[1].average_vector)"
   ]
  },
  {
   "cell_type": "code",
   "execution_count": 631,
   "metadata": {},
   "outputs": [
    {
     "name": "stderr",
     "output_type": "stream",
     "text": [
      "'c' argument looks like a single numeric RGB or RGBA sequence, which should be avoided as value-mapping will have precedence in case its length matches with 'x' & 'y'.  Please use a 2-D array with a single row if you really want to specify the same RGB or RGBA value for all points.\n",
      "'c' argument looks like a single numeric RGB or RGBA sequence, which should be avoided as value-mapping will have precedence in case its length matches with 'x' & 'y'.  Please use a 2-D array with a single row if you really want to specify the same RGB or RGBA value for all points.\n",
      "'c' argument looks like a single numeric RGB or RGBA sequence, which should be avoided as value-mapping will have precedence in case its length matches with 'x' & 'y'.  Please use a 2-D array with a single row if you really want to specify the same RGB or RGBA value for all points.\n",
      "'c' argument looks like a single numeric RGB or RGBA sequence, which should be avoided as value-mapping will have precedence in case its length matches with 'x' & 'y'.  Please use a 2-D array with a single row if you really want to specify the same RGB or RGBA value for all points.\n",
      "'c' argument looks like a single numeric RGB or RGBA sequence, which should be avoided as value-mapping will have precedence in case its length matches with 'x' & 'y'.  Please use a 2-D array with a single row if you really want to specify the same RGB or RGBA value for all points.\n",
      "'c' argument looks like a single numeric RGB or RGBA sequence, which should be avoided as value-mapping will have precedence in case its length matches with 'x' & 'y'.  Please use a 2-D array with a single row if you really want to specify the same RGB or RGBA value for all points.\n",
      "'c' argument looks like a single numeric RGB or RGBA sequence, which should be avoided as value-mapping will have precedence in case its length matches with 'x' & 'y'.  Please use a 2-D array with a single row if you really want to specify the same RGB or RGBA value for all points.\n",
      "'c' argument looks like a single numeric RGB or RGBA sequence, which should be avoided as value-mapping will have precedence in case its length matches with 'x' & 'y'.  Please use a 2-D array with a single row if you really want to specify the same RGB or RGBA value for all points.\n",
      "'c' argument looks like a single numeric RGB or RGBA sequence, which should be avoided as value-mapping will have precedence in case its length matches with 'x' & 'y'.  Please use a 2-D array with a single row if you really want to specify the same RGB or RGBA value for all points.\n",
      "'c' argument looks like a single numeric RGB or RGBA sequence, which should be avoided as value-mapping will have precedence in case its length matches with 'x' & 'y'.  Please use a 2-D array with a single row if you really want to specify the same RGB or RGBA value for all points.\n",
      "'c' argument looks like a single numeric RGB or RGBA sequence, which should be avoided as value-mapping will have precedence in case its length matches with 'x' & 'y'.  Please use a 2-D array with a single row if you really want to specify the same RGB or RGBA value for all points.\n",
      "'c' argument looks like a single numeric RGB or RGBA sequence, which should be avoided as value-mapping will have precedence in case its length matches with 'x' & 'y'.  Please use a 2-D array with a single row if you really want to specify the same RGB or RGBA value for all points.\n",
      "'c' argument looks like a single numeric RGB or RGBA sequence, which should be avoided as value-mapping will have precedence in case its length matches with 'x' & 'y'.  Please use a 2-D array with a single row if you really want to specify the same RGB or RGBA value for all points.\n",
      "'c' argument looks like a single numeric RGB or RGBA sequence, which should be avoided as value-mapping will have precedence in case its length matches with 'x' & 'y'.  Please use a 2-D array with a single row if you really want to specify the same RGB or RGBA value for all points.\n",
      "'c' argument looks like a single numeric RGB or RGBA sequence, which should be avoided as value-mapping will have precedence in case its length matches with 'x' & 'y'.  Please use a 2-D array with a single row if you really want to specify the same RGB or RGBA value for all points.\n",
      "'c' argument looks like a single numeric RGB or RGBA sequence, which should be avoided as value-mapping will have precedence in case its length matches with 'x' & 'y'.  Please use a 2-D array with a single row if you really want to specify the same RGB or RGBA value for all points.\n",
      "'c' argument looks like a single numeric RGB or RGBA sequence, which should be avoided as value-mapping will have precedence in case its length matches with 'x' & 'y'.  Please use a 2-D array with a single row if you really want to specify the same RGB or RGBA value for all points.\n",
      "'c' argument looks like a single numeric RGB or RGBA sequence, which should be avoided as value-mapping will have precedence in case its length matches with 'x' & 'y'.  Please use a 2-D array with a single row if you really want to specify the same RGB or RGBA value for all points.\n",
      "'c' argument looks like a single numeric RGB or RGBA sequence, which should be avoided as value-mapping will have precedence in case its length matches with 'x' & 'y'.  Please use a 2-D array with a single row if you really want to specify the same RGB or RGBA value for all points.\n",
      "'c' argument looks like a single numeric RGB or RGBA sequence, which should be avoided as value-mapping will have precedence in case its length matches with 'x' & 'y'.  Please use a 2-D array with a single row if you really want to specify the same RGB or RGBA value for all points.\n"
     ]
    },
    {
     "data": {
      "image/png": "[encoded data removed]",
      "text/plain": [
       "<Figure size 1152x648 with 1 Axes>"
      ]
     },
     "metadata": {
      "needs_background": "light"
     },
     "output_type": "display_data"
    }
   ],
   "source": [
    "embedding_clusters = np.array(embedding_clusters)\n",
    "n, m, k = embedding_clusters.shape\n",
    "tsne_model_en_2d = TSNE(perplexity=20, n_components=2, init='pca', n_iter=3500, random_state=32)\n",
    "embeddings_en_2d = np.array(tsne_model_en_2d.fit_transform(embedding_clusters.reshape(n * m, k))).reshape(n, m, 2)\n",
    "def tsne_plot_similar_words(title, labels, embedding_clusters, word_clusters, a, filename=None):\n",
    "    plt.figure(figsize=(16, 9))\n",
    "    colors = cm.rainbow(np.linspace(0, 1, len(labels)))\n",
    "    for label, embeddings, words, color in zip(labels, embedding_clusters, word_clusters, colors):\n",
    "        x = embeddings[:, 0]\n",
    "        y = embeddings[:, 1]\n",
    "        plt.scatter(x, y, c=color, alpha=a, label=label)\n",
    "        for i, word in enumerate(words):\n",
    "            plt.annotate(word, alpha=0.5, xy=(x[i], y[i]), xytext=(5, 2),\n",
    "                         textcoords='offset points', ha='right', va='bottom', size=8)\n",
    "    plt.legend(loc=4)\n",
    "    plt.title(title)\n",
    "    plt.grid(True)\n",
    "    if filename:\n",
    "        plt.savefig(filename, format='png', dpi=150, bbox_inches='tight')\n",
    "    plt.show()\n",
    "\n",
    "\n",
    "tsne_plot_similar_words('App Clusters', keys, embeddings_en_2d, word_clusters, 0.7,\n",
    "                        'similar_words.png')"
   ]
  },
  {
   "cell_type": "code",
   "execution_count": 632,
   "metadata": {},
   "outputs": [],
   "source": [
    "num_of_clusters=20\n",
    "embedding_clusters = [0]*num_of_clusters\n",
    "word_clusters = [0]*num_of_clusters\n",
    "for i in apps_description_filtered_english.iterrows():\n",
    "    cluster=i[1].cluster\n",
    "    if word_clusters[cluster]==0:\n",
    "        word_clusters[cluster]=[]\n",
    "        embedding_clusters[cluster]=[]\n",
    "        embedding_clusters[cluster].append(i[1].average_vector)\n",
    "        word_clusters[cluster].append(' '.join(i[1].track_name.split()[0:3]))\n",
    "    else:\n",
    "        if len(word_clusters[cluster])<25:\n",
    "            word_clusters[cluster].append(' '.join(i[1].track_name.split()[0:3]))\n",
    "            embedding_clusters[cluster].append(i[1].average_vector)"
   ]
  },
  {
   "cell_type": "code",
   "execution_count": 633,
   "metadata": {},
   "outputs": [
    {
     "data": {
      "text/plain": [
       "[\"franceinfo - l'actualité\",\n",
       " 'AlloCiné : Cinéma',\n",
       " '6play, TV en',\n",
       " 'Résultats Foot en',\n",
       " 'Météo-France',\n",
       " 'Ma Banque',\n",
       " 'La Banque Postale',\n",
       " 'Programme TV Télé',\n",
       " 'Mon compte pour',\n",
       " 'Impots.gouv']"
      ]
     },
     "execution_count": 633,
     "metadata": {},
     "output_type": "execute_result"
    }
   ],
   "source": [
    "word_clusters[5][5:15]"
   ]
  },
  {
   "cell_type": "code",
   "execution_count": 634,
   "metadata": {},
   "outputs": [
    {
     "data": {
      "text/plain": [
       "['radio.de - Der',\n",
       " 'n-tv Nachrichten',\n",
       " 'TV SPIELFILM -',\n",
       " 'Jourist Weltübersetzer',\n",
       " 'Der Feueralarm',\n",
       " 'Tagesschau',\n",
       " 'Verbrechen - echte',\n",
       " 'Chefkoch - Rezepte,',\n",
       " 'FOCUS Online -',\n",
       " 'Oje, ich wachse!']"
      ]
     },
     "execution_count": 634,
     "metadata": {},
     "output_type": "execute_result"
    }
   ],
   "source": [
    "word_clusters[12][0:10]"
   ]
  },
  {
   "cell_type": "code",
   "execution_count": 635,
   "metadata": {},
   "outputs": [
    {
     "data": {
      "text/plain": [
       "['Google Translate',\n",
       " 'Lieferando.de',\n",
       " 'AliExpress Shopping App',\n",
       " 'SayHi Translate',\n",
       " 'ConjuVerb - Spanish',\n",
       " 'Think in Japanese',\n",
       " 'Translator !!',\n",
       " 'iTranslate Voice -',\n",
       " 'Voice Translate Pro',\n",
       " 'HelloTalk Language Exchange']"
      ]
     },
     "execution_count": 635,
     "metadata": {},
     "output_type": "execute_result"
    }
   ],
   "source": [
    "word_clusters[14][5:15]"
   ]
  },
  {
   "cell_type": "code",
   "execution_count": 636,
   "metadata": {},
   "outputs": [
    {
     "data": {
      "text/plain": [
       "['Pandora - Music',\n",
       " 'Shazam - Discover',\n",
       " 'Cleartune - Chromatic',\n",
       " 'White Noise',\n",
       " 'Deezer - Listen',\n",
       " 'Sonos Controller',\n",
       " 'iReal Pro -',\n",
       " 'Rowmote: Remote Control',\n",
       " 'Tempo - Metronome',\n",
       " 'Brain Wave ™']"
      ]
     },
     "execution_count": 636,
     "metadata": {},
     "output_type": "execute_result"
    }
   ],
   "source": [
    "word_clusters[11][0:10]"
   ]
  },
  {
   "cell_type": "code",
   "execution_count": 637,
   "metadata": {},
   "outputs": [
    {
     "data": {
      "text/plain": [
       "['SCRABBLE Premium',\n",
       " 'Nike+ Training Club',\n",
       " 'Peggle Classic',\n",
       " 'TextNow - Unlimited',\n",
       " 'The Sims 3',\n",
       " 'Cartoon Wars',\n",
       " 'BATTLE BEARS: Zombies!',\n",
       " 'Sudoku⁺',\n",
       " 'Victoria’s Secret –',\n",
       " 'MONOPOLY Game',\n",
       " 'Rat On A',\n",
       " 'Grand Theft Auto:',\n",
       " 'The Sims 3',\n",
       " 'Roadside America',\n",
       " 'Plants vs. Zombies',\n",
       " 'Parents Calling Easter',\n",
       " 'Plants vs. Zombies',\n",
       " 'SCRABBLE Premium for',\n",
       " 'BATTLE BEARS -1',\n",
       " 'Onefootball - Soccer',\n",
       " 'Decide Now!',\n",
       " 'Reckless Racing HD',\n",
       " 'Ugly Meter™',\n",
       " 'The Sims 3',\n",
       " 'BUBBLE BOBBLE DOUBLE']"
      ]
     },
     "execution_count": 637,
     "metadata": {},
     "output_type": "execute_result"
    }
   ],
   "source": [
    "word_clusters[8]"
   ]
  },
  {
   "cell_type": "code",
   "execution_count": 638,
   "metadata": {},
   "outputs": [
    {
     "data": {
      "text/plain": [
       "['Line Rider iRide™',\n",
       " '2XL Supercross',\n",
       " 'AirCoaster - Roller',\n",
       " 'Drift Mania Championship',\n",
       " 'Autohome-Find new＆Used Cars',\n",
       " 'Bloons Super Monkey',\n",
       " 'Virtual Regatta Offshore',\n",
       " '2XL Supercross HD',\n",
       " 'Lane Splitter',\n",
       " 'Mountain Biker']"
      ]
     },
     "execution_count": 638,
     "metadata": {},
     "output_type": "execute_result"
    }
   ],
   "source": [
    "word_clusters[13][0:10]"
   ]
  },
  {
   "cell_type": "code",
   "execution_count": 639,
   "metadata": {},
   "outputs": [
    {
     "data": {
      "text/plain": [
       "['Allrecipes Dinner Spinner',\n",
       " 'Sky Burger -',\n",
       " 'Cake Doodle',\n",
       " 'Paprika Recipe Manager',\n",
       " \"Annabel Karmel's Baby\",\n",
       " \"Domino's Pizza USA\",\n",
       " 'Green Kitchen –',\n",
       " 'Toca Kitchen',\n",
       " 'Nom Nom Paleo',\n",
       " 'Cooking Academy (Full)']"
      ]
     },
     "execution_count": 639,
     "metadata": {},
     "output_type": "execute_result"
    }
   ],
   "source": [
    "word_clusters[1][0:10]"
   ]
  },
  {
   "cell_type": "code",
   "execution_count": 640,
   "metadata": {},
   "outputs": [
    {
     "data": {
      "text/plain": [
       "['Blackjack by MobilityWare',\n",
       " 'FOX Sports Mobile',\n",
       " 'Phase 10 Pro',\n",
       " 'Beer Pong Game',\n",
       " 'CBS Sports App',\n",
       " 'The Masters Tournament',\n",
       " 'World Cup Table',\n",
       " '2016 U.S. Open',\n",
       " 'The Championships, Wimbledon',\n",
       " 'Fantasy Football Manager',\n",
       " 'PGA Championship 2016',\n",
       " 'NFL Sunday Ticket',\n",
       " '2016 US Open',\n",
       " 'Yahoo Fantasy Sports']"
      ]
     },
     "execution_count": 640,
     "metadata": {},
     "output_type": "execute_result"
    }
   ],
   "source": [
    "word_clusters[7][1:15]"
   ]
  },
  {
   "cell_type": "code",
   "execution_count": 641,
   "metadata": {},
   "outputs": [
    {
     "data": {
      "text/plain": [
       "['Color Splash',\n",
       " 'iSwap Faces',\n",
       " 'Shutterfly: Prints, Photo',\n",
       " 'Camera+',\n",
       " 'Camera Plus: For',\n",
       " 'CatPaint',\n",
       " 'Hipstamatic',\n",
       " 'Timetracks - Slit-Scan',\n",
       " 'Dr. Seuss Camera',\n",
       " 'Slow Shutter Cam',\n",
       " 'AgingBooth',\n",
       " 'iWatermark - Watermark',\n",
       " 'Drawing Pad',\n",
       " 'Graphic - illustration']"
      ]
     },
     "execution_count": 641,
     "metadata": {},
     "output_type": "execute_result"
    }
   ],
   "source": [
    "word_clusters[10][1:15]"
   ]
  },
  {
   "cell_type": "code",
   "execution_count": 642,
   "metadata": {},
   "outputs": [
    {
     "data": {
      "text/plain": [
       "['PayPal - Send',\n",
       " 'Bank of America',\n",
       " 'TripAdvisor Hotels Flights',\n",
       " 'Yelp - Nearby',\n",
       " 'Lifesum – Inspiring',\n",
       " 'LinkedIn',\n",
       " 'Deliveries: a package',\n",
       " 'HotSchedules',\n",
       " 'OpenTable - Restaurant',\n",
       " 'Lose It! –',\n",
       " 'Target',\n",
       " 'Amazon App: shop,',\n",
       " 'Chase Mobile℠',\n",
       " 'Mint: Personal Finance,']"
      ]
     },
     "execution_count": 642,
     "metadata": {},
     "output_type": "execute_result"
    }
   ],
   "source": [
    "word_clusters[0][1:15]"
   ]
  }
 ],
 "metadata": {
  "kernelspec": {
   "display_name": "Python 3",
   "language": "python",
   "name": "python3"
  },
  "language_info": {
   "codemirror_mode": {
    "name": "ipython",
    "version": 3
   },
   "file_extension": ".py",
   "mimetype": "text/x-python",
   "name": "python",
   "nbconvert_exporter": "python",
   "pygments_lexer": "ipython3",
   "version": "3.8.5"
  }
 },
 "nbformat": 4,
 "nbformat_minor": 4
}
